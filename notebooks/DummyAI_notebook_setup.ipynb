{
 "cells": [
  {
   "cell_type": "markdown",
   "metadata": {},
   "source": [
    "# Environment Setup, Verification, and Jupyter Notebook Configuration"
   ]
  },
  {
   "cell_type": "markdown",
   "metadata": {},
   "source": [
    "## 1. Introduction\n",
    "### Objective\n",
    "This notebook is designed to:\n",
    "\n",
    "1. Set up the project environment using the \"DummyAI.yaml\" file.\n",
    "2. Verify the installation of all required libraries.\n",
    "3. Ensure that all team members can access and run the notebook within the shared environment."
   ]
  },
  {
   "cell_type": "markdown",
   "metadata": {},
   "source": [
    "## 2. Environment Setup\n",
    "### 2.1 Check for Required Libraries\n",
    "We'll first check if the yaml library is available for reading the DummyAI.yaml file. If it's not installed, we'll provide instructions for installing it."
   ]
  },
  {
   "cell_type": "code",
   "execution_count": 24,
   "metadata": {},
   "outputs": [
    {
     "name": "stdout",
     "output_type": "stream",
     "text": [
      "PyYAML is installed.\n"
     ]
    }
   ],
   "source": [
    "try:\n",
    "    import yaml\n",
    "    print(\"PyYAML is installed.\")\n",
    "except ImportError:\n",
    "    print(\"PyYAML is not installed. Installing it using the following command:\")\n",
    "    print(\"!pip install pyyaml\")\n",
    "    # Install PyYAML\n",
    "    !pip install pyyaml"
   ]
  },
  {
   "cell_type": "markdown",
   "metadata": {},
   "source": [
    "### 2.2 Extract and Display the Environment Name\n",
    "After ensuring that yaml is installed, read the DummyAI.yml file to extract the environment name."
   ]
  },
  {
   "cell_type": "code",
   "execution_count": 25,
   "metadata": {},
   "outputs": [
    {
     "name": "stdout",
     "output_type": "stream",
     "text": [
      "Environment Name: DummyAI\n"
     ]
    }
   ],
   "source": [
    "import yaml\n",
    "\n",
    "# Load the DummyAI.yaml file\n",
    "with open('DummyAI.yaml', 'r') as file:\n",
    "    env_config = yaml.safe_load(file)\n",
    "\n",
    "# Extract the environment name\n",
    "env_name = env_config.get('name', 'default_env')\n",
    "\n",
    "print(f\"Environment Name: {env_name}\")\n"
   ]
  },
  {
   "cell_type": "markdown",
   "metadata": {},
   "source": [
    "### 2.3 Create the Conda Environment\n",
    "Create the environment using the DummyAI.yaml file."
   ]
  },
  {
   "cell_type": "code",
   "execution_count": 2,
   "metadata": {},
   "outputs": [
    {
     "name": "stderr",
     "output_type": "stream",
     "text": [
      "\n",
      "CondaValueError: prefix already exists: C:\\Users\\SOEC\\.conda\\envs\\DummyAI\n",
      "\n"
     ]
    }
   ],
   "source": [
    "# Create the environment using the DummyAI.yaml file\n",
    "!conda env create -f DummyAI.yaml\n",
    "\n",
    "# Remove environment\n",
    "# conda env remove -n DummyAI.yaml"
   ]
  },
  {
   "cell_type": "markdown",
   "metadata": {},
   "source": [
    "## 2.4 Activate the Environment (Terminal)\n",
    "Note: This step needs to be performed in the terminal after creating the environment.\n",
    "\n",
    "markdown\n",
    "Copy code\n",
    "1. **Activate the Conda Environment**:\n",
    "   \n",
    "   Run the following command in your terminal:\n",
    "\n",
    "   ```bash\n",
    "   conda activate {env_name}\n",
    "Launch Jupyter Notebook:\n",
    "\n",
    "After activating the environment, launch Jupyter Notebook:\n",
    "\n",
    "bash\n",
    "Copy code\n",
    "jupyter notebook\n",
    "Install Additional Dependencies via pip (if needed)\n",
    "\n",
    "If there are additional dependencies specified in a requirements.txt file, install them using:\n",
    "\n",
    "bash\n",
    "Copy code\n",
    "pip install -r requirements.txt\n",
    "Run the Notebook:\n",
    "\n",
    "Open the Jupyter Notebook in your browser and run the cells to ensure everything is working properly.\n",
    "\n",
    "python\n",
    "Copy code\n",
    "\n",
    "---"
   ]
  },
  {
   "cell_type": "markdown",
   "metadata": {},
   "source": [
    "If the command does not work in the notebook:\n",
    "\n",
    "Terminal or Command Prompt: Try running the commands in a terminal or command prompt outside of the notebook. This often helps with issues related to environment configuration.\n",
    "\n",
    "**Change Environment: Additionally, if you are using a notebook interface (like Jupyter or Colab), make sure you have selected the correct Python environment. You can usually change the environment from the top-right corner of the notebook interface where the current environment or kernel is listed.**"
   ]
  },
  {
   "cell_type": "markdown",
   "metadata": {},
   "source": [
    "## **3. Verifying Library Installation**\n",
    "\n",
    "Check if all the required libraries from the `DummyAI.yaml` file are installed correctly and can be imported.\n"
   ]
  },
  {
   "cell_type": "code",
   "execution_count": 7,
   "metadata": {},
   "outputs": [
    {
     "name": "stdout",
     "output_type": "stream",
     "text": [
      "All required libraries are installed.\n"
     ]
    }
   ],
   "source": [
    "import yaml\n",
    "import subprocess\n",
    "import sys\n",
    "\n",
    "# Load the DummyAI.yaml file\n",
    "def load_environment_yml(file_path):\n",
    "    with open(file_path, 'r') as file:\n",
    "        return yaml.safe_load(file)\n",
    "\n",
    "# Get required libraries from DummyAI.yaml\n",
    "def get_required_libraries(env_config):\n",
    "    dependencies = env_config.get('dependencies', [])\n",
    "    conda_dependencies = []\n",
    "    pip_dependencies = []\n",
    "\n",
    "    for dep in dependencies:\n",
    "        if isinstance(dep, str):\n",
    "            # Handle Conda dependencies (excluding python version)\n",
    "            if not dep.startswith('python'):\n",
    "                conda_dependencies.append(dep.split('=')[0])\n",
    "        elif isinstance(dep, dict):\n",
    "            # Handle Pip dependencies\n",
    "            if 'pip' in dep:\n",
    "                pip_dependencies.extend(dep['pip'])\n",
    "\n",
    "    return conda_dependencies, pip_dependencies\n",
    "\n",
    "# Check if each Conda library is installed\n",
    "def check_conda_libraries(libraries):\n",
    "    installed_libs = []\n",
    "    not_installed_libs = []\n",
    "    \n",
    "    for lib in libraries:\n",
    "        result = subprocess.run(['conda', 'list', lib], capture_output=True, text=True)\n",
    "        if result.returncode == 0 and lib in result.stdout:\n",
    "            installed_libs.append(lib)\n",
    "        else:\n",
    "            not_installed_libs.append(lib)\n",
    "    \n",
    "    return installed_libs, not_installed_libs\n",
    "\n",
    "# Check if each Pip library is installed\n",
    "def check_pip_libraries(libraries):\n",
    "    installed_libs = []\n",
    "    not_installed_libs = []\n",
    "    \n",
    "    for lib in libraries:\n",
    "        result = subprocess.run([sys.executable, \"-m\", \"pip\", \"show\", lib.split('<')[0]], capture_output=True, text=True)\n",
    "        if result.returncode == 0:\n",
    "            installed_libs.append(lib)\n",
    "        else:\n",
    "            not_installed_libs.append(lib)\n",
    "    \n",
    "    return installed_libs, not_installed_libs\n",
    "\n",
    "# Main workflow\n",
    "env_config = load_environment_yml('DummyAI.yaml')\n",
    "required_conda_libraries, required_pip_libraries = get_required_libraries(env_config)\n",
    "\n",
    "# Check Conda libraries\n",
    "conda_installed_libraries, conda_missing_libraries = check_conda_libraries(required_conda_libraries)\n",
    "# Check Pip libraries\n",
    "pip_installed_libraries, pip_missing_libraries = check_pip_libraries(required_pip_libraries)\n",
    "\n",
    "# Determine if all required libraries are installed\n",
    "all_conda_installed = not conda_missing_libraries\n",
    "all_pip_installed = not pip_missing_libraries\n",
    "\n",
    "if all_conda_installed and all_pip_installed:\n",
    "    print(\"All required libraries are installed.\")\n",
    "else:\n",
    "    if conda_missing_libraries:\n",
    "        print(f\"Missing Conda libraries: {', '.join(conda_missing_libraries)}\")\n",
    "    if pip_missing_libraries:\n",
    "        print(f\"Missing Pip libraries: {', '.join(pip_missing_libraries)}\")"
   ]
  }
 ],
 "metadata": {
  "kernelspec": {
   "display_name": "base",
   "language": "python",
   "name": "python3"
  },
  "language_info": {
   "codemirror_mode": {
    "name": "ipython",
    "version": 3
   },
   "file_extension": ".py",
   "mimetype": "text/x-python",
   "name": "python",
   "nbconvert_exporter": "python",
   "pygments_lexer": "ipython3",
   "version": "3.8.19"
  }
 },
 "nbformat": 4,
 "nbformat_minor": 2
}
